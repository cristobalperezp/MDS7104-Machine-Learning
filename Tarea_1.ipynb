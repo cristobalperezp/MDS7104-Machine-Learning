{
  "nbformat": 4,
  "nbformat_minor": 0,
  "metadata": {
    "colab": {
      "provenance": [],
      "authorship_tag": "ABX9TyMXdNgJs+Te130PDWbv6nnu",
      "include_colab_link": true
    },
    "kernelspec": {
      "name": "python3",
      "display_name": "Python 3"
    },
    "language_info": {
      "name": "python"
    }
  },
  "cells": [
    {
      "cell_type": "markdown",
      "metadata": {
        "id": "view-in-github",
        "colab_type": "text"
      },
      "source": [
        "<a href=\"https://colab.research.google.com/github/cristobalperezp/MDS7104-Machine-Learning/blob/main/Tarea_1.ipynb\" target=\"_parent\"><img src=\"https://colab.research.google.com/assets/colab-badge.svg\" alt=\"Open In Colab\"/></a>"
      ]
    },
    {
      "cell_type": "markdown",
      "source": [
        "<h1 align=\"center\"> Tarea 1 - Aprendizaje de Máquinas\n",
        "<h2 align=\"center\">  Alumno: Cristóbal Pérez\n",
        "<h3 align=\"center\"> MDS7104-1 - Aprendizaje de Máquinas\n",
        "<h3 align=\"center\"> Otoño 2023\n",
        "\n",
        "---"
      ],
      "metadata": {
        "id": "jU9HEZ0SACAI"
      }
    },
    {
      "cell_type": "markdown",
      "source": [
        "## Configuración Inicial:"
      ],
      "metadata": {
        "id": "JSsWOKxpAER5"
      }
    },
    {
      "cell_type": "code",
      "execution_count": 1,
      "metadata": {
        "id": "ml_23b6g1ogh"
      },
      "outputs": [],
      "source": [
        "import numpy as np\n",
        "import pandas as pd\n",
        "import seaborn as sns\n",
        "import matplotlib.pyplot as plt"
      ]
    },
    {
      "cell_type": "code",
      "source": [
        "seed = 20143826"
      ],
      "metadata": {
        "id": "O2IoxEPd29JK"
      },
      "execution_count": 2,
      "outputs": []
    },
    {
      "cell_type": "code",
      "source": [
        "! git clone 'https://github.com/cristobalperezp/MDS7104-Machine-Learning.git'"
      ],
      "metadata": {
        "colab": {
          "base_uri": "https://localhost:8080/"
        },
        "id": "7_FyCa274-LU",
        "outputId": "b8b2e44d-3792-4c70-bfb4-020d1c52be9e"
      },
      "execution_count": 3,
      "outputs": [
        {
          "output_type": "stream",
          "name": "stdout",
          "text": [
            "Cloning into 'MDS7104-Machine-Learning'...\n",
            "remote: Enumerating objects: 6, done.\u001b[K\n",
            "remote: Counting objects: 100% (6/6), done.\u001b[K\n",
            "remote: Compressing objects: 100% (4/4), done.\u001b[K\n",
            "remote: Total 6 (delta 0), reused 0 (delta 0), pack-reused 0\u001b[K\n",
            "Unpacking objects: 100% (6/6), 11.58 MiB | 8.23 MiB/s, done.\n"
          ]
        }
      ]
    },
    {
      "cell_type": "code",
      "source": [
        "data = pd.read_csv('/content/MDS7104-Machine-Learning/amazon_reviews_us_Gift_Card_v1_00.tsv.gz',sep='\\t').sample(frac = 0.2, random_state = seed).reset_index(drop=True)"
      ],
      "metadata": {
        "id": "uhNF0zLG1wlC"
      },
      "execution_count": 4,
      "outputs": []
    },
    {
      "cell_type": "code",
      "source": [
        "data.head()"
      ],
      "metadata": {
        "colab": {
          "base_uri": "https://localhost:8080/",
          "height": 478
        },
        "id": "Vx1LyCVE4Lb_",
        "outputId": "814439f2-6272-4fe0-b747-c68cfbefa06f"
      },
      "execution_count": 5,
      "outputs": [
        {
          "output_type": "execute_result",
          "data": {
            "text/plain": [
              "  marketplace  customer_id       review_id  product_id  product_parent  \\\n",
              "0          US     18747468  R22VE1RZ6YR5AT  B00PMOT2IU       802996579   \n",
              "1          US     24320153  R3DGK3F4KO8O3P  B005EISPOG       307799435   \n",
              "2          US     25347410  R3UZ4B7GTFD5LA  B004RCNH8Y       644630034   \n",
              "3          US      3488741  R26ZVOFFUD5JZE  B004LLIKVU       473048287   \n",
              "4          US     10049269   R4G4JDQSOSF7L  B00JDQK10G       255898874   \n",
              "\n",
              "                                       product_title product_category  \\\n",
              "0              Amazon.com Gift Cards - Print at Home        Gift Card   \n",
              "1             Amazon Gift Card - Print - Baby Shower        Gift Card   \n",
              "2        Amazon Gift Card - Print - Congratulations!        Gift Card   \n",
              "3                             Amazon.com eGift Cards        Gift Card   \n",
              "4  Amazon.com Gift Card in a Birthday Cupcake Tin...        Gift Card   \n",
              "\n",
              "   star_rating  helpful_votes  total_votes vine verified_purchase  \\\n",
              "0            5              0            0    N                 Y   \n",
              "1            5              0            0    N                 Y   \n",
              "2            5              0            0    N                 Y   \n",
              "3            5              0            0    N                 Y   \n",
              "4            5              0            0    N                 Y   \n",
              "\n",
              "               review_headline  \\\n",
              "0                   Five Stars   \n",
              "1  Loved the Baby Shower card.   \n",
              "2         Practical and Pretty   \n",
              "3                   Five Stars   \n",
              "4                   Five Stars   \n",
              "\n",
              "                                         review_body review_date  \n",
              "0                       Easy and just what I needed.  2015-01-24  \n",
              "1  I was very pleased w/ the simplicity of printi...  2014-04-29  \n",
              "2  I bought this ribbon to be used for various re...  2013-07-20  \n",
              "3                                                god  2014-10-18  \n",
              "4                  Super cute. Got there in one day.  2015-02-21  "
            ],
            "text/html": [
              "\n",
              "  <div id=\"df-4c569f46-4944-4d2f-b0e9-14d387948b47\">\n",
              "    <div class=\"colab-df-container\">\n",
              "      <div>\n",
              "<style scoped>\n",
              "    .dataframe tbody tr th:only-of-type {\n",
              "        vertical-align: middle;\n",
              "    }\n",
              "\n",
              "    .dataframe tbody tr th {\n",
              "        vertical-align: top;\n",
              "    }\n",
              "\n",
              "    .dataframe thead th {\n",
              "        text-align: right;\n",
              "    }\n",
              "</style>\n",
              "<table border=\"1\" class=\"dataframe\">\n",
              "  <thead>\n",
              "    <tr style=\"text-align: right;\">\n",
              "      <th></th>\n",
              "      <th>marketplace</th>\n",
              "      <th>customer_id</th>\n",
              "      <th>review_id</th>\n",
              "      <th>product_id</th>\n",
              "      <th>product_parent</th>\n",
              "      <th>product_title</th>\n",
              "      <th>product_category</th>\n",
              "      <th>star_rating</th>\n",
              "      <th>helpful_votes</th>\n",
              "      <th>total_votes</th>\n",
              "      <th>vine</th>\n",
              "      <th>verified_purchase</th>\n",
              "      <th>review_headline</th>\n",
              "      <th>review_body</th>\n",
              "      <th>review_date</th>\n",
              "    </tr>\n",
              "  </thead>\n",
              "  <tbody>\n",
              "    <tr>\n",
              "      <th>0</th>\n",
              "      <td>US</td>\n",
              "      <td>18747468</td>\n",
              "      <td>R22VE1RZ6YR5AT</td>\n",
              "      <td>B00PMOT2IU</td>\n",
              "      <td>802996579</td>\n",
              "      <td>Amazon.com Gift Cards - Print at Home</td>\n",
              "      <td>Gift Card</td>\n",
              "      <td>5</td>\n",
              "      <td>0</td>\n",
              "      <td>0</td>\n",
              "      <td>N</td>\n",
              "      <td>Y</td>\n",
              "      <td>Five Stars</td>\n",
              "      <td>Easy and just what I needed.</td>\n",
              "      <td>2015-01-24</td>\n",
              "    </tr>\n",
              "    <tr>\n",
              "      <th>1</th>\n",
              "      <td>US</td>\n",
              "      <td>24320153</td>\n",
              "      <td>R3DGK3F4KO8O3P</td>\n",
              "      <td>B005EISPOG</td>\n",
              "      <td>307799435</td>\n",
              "      <td>Amazon Gift Card - Print - Baby Shower</td>\n",
              "      <td>Gift Card</td>\n",
              "      <td>5</td>\n",
              "      <td>0</td>\n",
              "      <td>0</td>\n",
              "      <td>N</td>\n",
              "      <td>Y</td>\n",
              "      <td>Loved the Baby Shower card.</td>\n",
              "      <td>I was very pleased w/ the simplicity of printi...</td>\n",
              "      <td>2014-04-29</td>\n",
              "    </tr>\n",
              "    <tr>\n",
              "      <th>2</th>\n",
              "      <td>US</td>\n",
              "      <td>25347410</td>\n",
              "      <td>R3UZ4B7GTFD5LA</td>\n",
              "      <td>B004RCNH8Y</td>\n",
              "      <td>644630034</td>\n",
              "      <td>Amazon Gift Card - Print - Congratulations!</td>\n",
              "      <td>Gift Card</td>\n",
              "      <td>5</td>\n",
              "      <td>0</td>\n",
              "      <td>0</td>\n",
              "      <td>N</td>\n",
              "      <td>Y</td>\n",
              "      <td>Practical and Pretty</td>\n",
              "      <td>I bought this ribbon to be used for various re...</td>\n",
              "      <td>2013-07-20</td>\n",
              "    </tr>\n",
              "    <tr>\n",
              "      <th>3</th>\n",
              "      <td>US</td>\n",
              "      <td>3488741</td>\n",
              "      <td>R26ZVOFFUD5JZE</td>\n",
              "      <td>B004LLIKVU</td>\n",
              "      <td>473048287</td>\n",
              "      <td>Amazon.com eGift Cards</td>\n",
              "      <td>Gift Card</td>\n",
              "      <td>5</td>\n",
              "      <td>0</td>\n",
              "      <td>0</td>\n",
              "      <td>N</td>\n",
              "      <td>Y</td>\n",
              "      <td>Five Stars</td>\n",
              "      <td>god</td>\n",
              "      <td>2014-10-18</td>\n",
              "    </tr>\n",
              "    <tr>\n",
              "      <th>4</th>\n",
              "      <td>US</td>\n",
              "      <td>10049269</td>\n",
              "      <td>R4G4JDQSOSF7L</td>\n",
              "      <td>B00JDQK10G</td>\n",
              "      <td>255898874</td>\n",
              "      <td>Amazon.com Gift Card in a Birthday Cupcake Tin...</td>\n",
              "      <td>Gift Card</td>\n",
              "      <td>5</td>\n",
              "      <td>0</td>\n",
              "      <td>0</td>\n",
              "      <td>N</td>\n",
              "      <td>Y</td>\n",
              "      <td>Five Stars</td>\n",
              "      <td>Super cute. Got there in one day.</td>\n",
              "      <td>2015-02-21</td>\n",
              "    </tr>\n",
              "  </tbody>\n",
              "</table>\n",
              "</div>\n",
              "      <button class=\"colab-df-convert\" onclick=\"convertToInteractive('df-4c569f46-4944-4d2f-b0e9-14d387948b47')\"\n",
              "              title=\"Convert this dataframe to an interactive table.\"\n",
              "              style=\"display:none;\">\n",
              "        \n",
              "  <svg xmlns=\"http://www.w3.org/2000/svg\" height=\"24px\"viewBox=\"0 0 24 24\"\n",
              "       width=\"24px\">\n",
              "    <path d=\"M0 0h24v24H0V0z\" fill=\"none\"/>\n",
              "    <path d=\"M18.56 5.44l.94 2.06.94-2.06 2.06-.94-2.06-.94-.94-2.06-.94 2.06-2.06.94zm-11 1L8.5 8.5l.94-2.06 2.06-.94-2.06-.94L8.5 2.5l-.94 2.06-2.06.94zm10 10l.94 2.06.94-2.06 2.06-.94-2.06-.94-.94-2.06-.94 2.06-2.06.94z\"/><path d=\"M17.41 7.96l-1.37-1.37c-.4-.4-.92-.59-1.43-.59-.52 0-1.04.2-1.43.59L10.3 9.45l-7.72 7.72c-.78.78-.78 2.05 0 2.83L4 21.41c.39.39.9.59 1.41.59.51 0 1.02-.2 1.41-.59l7.78-7.78 2.81-2.81c.8-.78.8-2.07 0-2.86zM5.41 20L4 18.59l7.72-7.72 1.47 1.35L5.41 20z\"/>\n",
              "  </svg>\n",
              "      </button>\n",
              "      \n",
              "  <style>\n",
              "    .colab-df-container {\n",
              "      display:flex;\n",
              "      flex-wrap:wrap;\n",
              "      gap: 12px;\n",
              "    }\n",
              "\n",
              "    .colab-df-convert {\n",
              "      background-color: #E8F0FE;\n",
              "      border: none;\n",
              "      border-radius: 50%;\n",
              "      cursor: pointer;\n",
              "      display: none;\n",
              "      fill: #1967D2;\n",
              "      height: 32px;\n",
              "      padding: 0 0 0 0;\n",
              "      width: 32px;\n",
              "    }\n",
              "\n",
              "    .colab-df-convert:hover {\n",
              "      background-color: #E2EBFA;\n",
              "      box-shadow: 0px 1px 2px rgba(60, 64, 67, 0.3), 0px 1px 3px 1px rgba(60, 64, 67, 0.15);\n",
              "      fill: #174EA6;\n",
              "    }\n",
              "\n",
              "    [theme=dark] .colab-df-convert {\n",
              "      background-color: #3B4455;\n",
              "      fill: #D2E3FC;\n",
              "    }\n",
              "\n",
              "    [theme=dark] .colab-df-convert:hover {\n",
              "      background-color: #434B5C;\n",
              "      box-shadow: 0px 1px 3px 1px rgba(0, 0, 0, 0.15);\n",
              "      filter: drop-shadow(0px 1px 2px rgba(0, 0, 0, 0.3));\n",
              "      fill: #FFFFFF;\n",
              "    }\n",
              "  </style>\n",
              "\n",
              "      <script>\n",
              "        const buttonEl =\n",
              "          document.querySelector('#df-4c569f46-4944-4d2f-b0e9-14d387948b47 button.colab-df-convert');\n",
              "        buttonEl.style.display =\n",
              "          google.colab.kernel.accessAllowed ? 'block' : 'none';\n",
              "\n",
              "        async function convertToInteractive(key) {\n",
              "          const element = document.querySelector('#df-4c569f46-4944-4d2f-b0e9-14d387948b47');\n",
              "          const dataTable =\n",
              "            await google.colab.kernel.invokeFunction('convertToInteractive',\n",
              "                                                     [key], {});\n",
              "          if (!dataTable) return;\n",
              "\n",
              "          const docLinkHtml = 'Like what you see? Visit the ' +\n",
              "            '<a target=\"_blank\" href=https://colab.research.google.com/notebooks/data_table.ipynb>data table notebook</a>'\n",
              "            + ' to learn more about interactive tables.';\n",
              "          element.innerHTML = '';\n",
              "          dataTable['output_type'] = 'display_data';\n",
              "          await google.colab.output.renderOutput(dataTable, element);\n",
              "          const docLink = document.createElement('div');\n",
              "          docLink.innerHTML = docLinkHtml;\n",
              "          element.appendChild(docLink);\n",
              "        }\n",
              "      </script>\n",
              "    </div>\n",
              "  </div>\n",
              "  "
            ]
          },
          "metadata": {},
          "execution_count": 5
        }
      ]
    },
    {
      "cell_type": "code",
      "source": [
        "data.shape"
      ],
      "metadata": {
        "colab": {
          "base_uri": "https://localhost:8080/"
        },
        "id": "ox9lUIzH6ByB",
        "outputId": "3b05e366-e25f-456b-bca4-afc6a639505a"
      },
      "execution_count": 6,
      "outputs": [
        {
          "output_type": "execute_result",
          "data": {
            "text/plain": [
              "(29662, 15)"
            ]
          },
          "metadata": {},
          "execution_count": 6
        }
      ]
    },
    {
      "cell_type": "code",
      "source": [
        "columns = ['star_rating','verified_purchase','total_votes','review_body']\n",
        "df = data.copy()\n",
        "df = df.loc[:,columns]\n",
        "df.head()"
      ],
      "metadata": {
        "colab": {
          "base_uri": "https://localhost:8080/",
          "height": 206
        },
        "id": "rpZP8LoP6cEL",
        "outputId": "07e372a0-c986-4df6-a353-c872daad8d36"
      },
      "execution_count": 7,
      "outputs": [
        {
          "output_type": "execute_result",
          "data": {
            "text/plain": [
              "   star_rating verified_purchase  total_votes  \\\n",
              "0            5                 Y            0   \n",
              "1            5                 Y            0   \n",
              "2            5                 Y            0   \n",
              "3            5                 Y            0   \n",
              "4            5                 Y            0   \n",
              "\n",
              "                                         review_body  \n",
              "0                       Easy and just what I needed.  \n",
              "1  I was very pleased w/ the simplicity of printi...  \n",
              "2  I bought this ribbon to be used for various re...  \n",
              "3                                                god  \n",
              "4                  Super cute. Got there in one day.  "
            ],
            "text/html": [
              "\n",
              "  <div id=\"df-1e476b89-666a-479d-b80d-92f7c5c5366b\">\n",
              "    <div class=\"colab-df-container\">\n",
              "      <div>\n",
              "<style scoped>\n",
              "    .dataframe tbody tr th:only-of-type {\n",
              "        vertical-align: middle;\n",
              "    }\n",
              "\n",
              "    .dataframe tbody tr th {\n",
              "        vertical-align: top;\n",
              "    }\n",
              "\n",
              "    .dataframe thead th {\n",
              "        text-align: right;\n",
              "    }\n",
              "</style>\n",
              "<table border=\"1\" class=\"dataframe\">\n",
              "  <thead>\n",
              "    <tr style=\"text-align: right;\">\n",
              "      <th></th>\n",
              "      <th>star_rating</th>\n",
              "      <th>verified_purchase</th>\n",
              "      <th>total_votes</th>\n",
              "      <th>review_body</th>\n",
              "    </tr>\n",
              "  </thead>\n",
              "  <tbody>\n",
              "    <tr>\n",
              "      <th>0</th>\n",
              "      <td>5</td>\n",
              "      <td>Y</td>\n",
              "      <td>0</td>\n",
              "      <td>Easy and just what I needed.</td>\n",
              "    </tr>\n",
              "    <tr>\n",
              "      <th>1</th>\n",
              "      <td>5</td>\n",
              "      <td>Y</td>\n",
              "      <td>0</td>\n",
              "      <td>I was very pleased w/ the simplicity of printi...</td>\n",
              "    </tr>\n",
              "    <tr>\n",
              "      <th>2</th>\n",
              "      <td>5</td>\n",
              "      <td>Y</td>\n",
              "      <td>0</td>\n",
              "      <td>I bought this ribbon to be used for various re...</td>\n",
              "    </tr>\n",
              "    <tr>\n",
              "      <th>3</th>\n",
              "      <td>5</td>\n",
              "      <td>Y</td>\n",
              "      <td>0</td>\n",
              "      <td>god</td>\n",
              "    </tr>\n",
              "    <tr>\n",
              "      <th>4</th>\n",
              "      <td>5</td>\n",
              "      <td>Y</td>\n",
              "      <td>0</td>\n",
              "      <td>Super cute. Got there in one day.</td>\n",
              "    </tr>\n",
              "  </tbody>\n",
              "</table>\n",
              "</div>\n",
              "      <button class=\"colab-df-convert\" onclick=\"convertToInteractive('df-1e476b89-666a-479d-b80d-92f7c5c5366b')\"\n",
              "              title=\"Convert this dataframe to an interactive table.\"\n",
              "              style=\"display:none;\">\n",
              "        \n",
              "  <svg xmlns=\"http://www.w3.org/2000/svg\" height=\"24px\"viewBox=\"0 0 24 24\"\n",
              "       width=\"24px\">\n",
              "    <path d=\"M0 0h24v24H0V0z\" fill=\"none\"/>\n",
              "    <path d=\"M18.56 5.44l.94 2.06.94-2.06 2.06-.94-2.06-.94-.94-2.06-.94 2.06-2.06.94zm-11 1L8.5 8.5l.94-2.06 2.06-.94-2.06-.94L8.5 2.5l-.94 2.06-2.06.94zm10 10l.94 2.06.94-2.06 2.06-.94-2.06-.94-.94-2.06-.94 2.06-2.06.94z\"/><path d=\"M17.41 7.96l-1.37-1.37c-.4-.4-.92-.59-1.43-.59-.52 0-1.04.2-1.43.59L10.3 9.45l-7.72 7.72c-.78.78-.78 2.05 0 2.83L4 21.41c.39.39.9.59 1.41.59.51 0 1.02-.2 1.41-.59l7.78-7.78 2.81-2.81c.8-.78.8-2.07 0-2.86zM5.41 20L4 18.59l7.72-7.72 1.47 1.35L5.41 20z\"/>\n",
              "  </svg>\n",
              "      </button>\n",
              "      \n",
              "  <style>\n",
              "    .colab-df-container {\n",
              "      display:flex;\n",
              "      flex-wrap:wrap;\n",
              "      gap: 12px;\n",
              "    }\n",
              "\n",
              "    .colab-df-convert {\n",
              "      background-color: #E8F0FE;\n",
              "      border: none;\n",
              "      border-radius: 50%;\n",
              "      cursor: pointer;\n",
              "      display: none;\n",
              "      fill: #1967D2;\n",
              "      height: 32px;\n",
              "      padding: 0 0 0 0;\n",
              "      width: 32px;\n",
              "    }\n",
              "\n",
              "    .colab-df-convert:hover {\n",
              "      background-color: #E2EBFA;\n",
              "      box-shadow: 0px 1px 2px rgba(60, 64, 67, 0.3), 0px 1px 3px 1px rgba(60, 64, 67, 0.15);\n",
              "      fill: #174EA6;\n",
              "    }\n",
              "\n",
              "    [theme=dark] .colab-df-convert {\n",
              "      background-color: #3B4455;\n",
              "      fill: #D2E3FC;\n",
              "    }\n",
              "\n",
              "    [theme=dark] .colab-df-convert:hover {\n",
              "      background-color: #434B5C;\n",
              "      box-shadow: 0px 1px 3px 1px rgba(0, 0, 0, 0.15);\n",
              "      filter: drop-shadow(0px 1px 2px rgba(0, 0, 0, 0.3));\n",
              "      fill: #FFFFFF;\n",
              "    }\n",
              "  </style>\n",
              "\n",
              "      <script>\n",
              "        const buttonEl =\n",
              "          document.querySelector('#df-1e476b89-666a-479d-b80d-92f7c5c5366b button.colab-df-convert');\n",
              "        buttonEl.style.display =\n",
              "          google.colab.kernel.accessAllowed ? 'block' : 'none';\n",
              "\n",
              "        async function convertToInteractive(key) {\n",
              "          const element = document.querySelector('#df-1e476b89-666a-479d-b80d-92f7c5c5366b');\n",
              "          const dataTable =\n",
              "            await google.colab.kernel.invokeFunction('convertToInteractive',\n",
              "                                                     [key], {});\n",
              "          if (!dataTable) return;\n",
              "\n",
              "          const docLinkHtml = 'Like what you see? Visit the ' +\n",
              "            '<a target=\"_blank\" href=https://colab.research.google.com/notebooks/data_table.ipynb>data table notebook</a>'\n",
              "            + ' to learn more about interactive tables.';\n",
              "          element.innerHTML = '';\n",
              "          dataTable['output_type'] = 'display_data';\n",
              "          await google.colab.output.renderOutput(dataTable, element);\n",
              "          const docLink = document.createElement('div');\n",
              "          docLink.innerHTML = docLinkHtml;\n",
              "          element.appendChild(docLink);\n",
              "        }\n",
              "      </script>\n",
              "    </div>\n",
              "  </div>\n",
              "  "
            ]
          },
          "metadata": {},
          "execution_count": 7
        }
      ]
    },
    {
      "cell_type": "code",
      "source": [
        "df[\"review_body\"].fillna(\"\", inplace=True)\n",
        "df['length_of_review'] = df['review_body'].str.split().apply(lambda x: len(x))\n",
        "df = df.drop(columns=['review_body'])\n",
        "df"
      ],
      "metadata": {
        "colab": {
          "base_uri": "https://localhost:8080/",
          "height": 423
        },
        "id": "5n7ii_kY7H2J",
        "outputId": "4b20742f-6117-4de8-d956-5c3613928b97"
      },
      "execution_count": 8,
      "outputs": [
        {
          "output_type": "execute_result",
          "data": {
            "text/plain": [
              "       star_rating verified_purchase  total_votes  length_of_review\n",
              "0                5                 Y            0                 6\n",
              "1                5                 Y            0                32\n",
              "2                5                 Y            0               104\n",
              "3                5                 Y            0                 1\n",
              "4                5                 Y            0                 7\n",
              "...            ...               ...          ...               ...\n",
              "29657            5                 Y            0                20\n",
              "29658            5                 Y            0                 8\n",
              "29659            5                 Y            0                25\n",
              "29660            5                 N            0                24\n",
              "29661            5                 Y            0                34\n",
              "\n",
              "[29662 rows x 4 columns]"
            ],
            "text/html": [
              "\n",
              "  <div id=\"df-9d880dce-52aa-4ded-b671-f7d175d18a53\">\n",
              "    <div class=\"colab-df-container\">\n",
              "      <div>\n",
              "<style scoped>\n",
              "    .dataframe tbody tr th:only-of-type {\n",
              "        vertical-align: middle;\n",
              "    }\n",
              "\n",
              "    .dataframe tbody tr th {\n",
              "        vertical-align: top;\n",
              "    }\n",
              "\n",
              "    .dataframe thead th {\n",
              "        text-align: right;\n",
              "    }\n",
              "</style>\n",
              "<table border=\"1\" class=\"dataframe\">\n",
              "  <thead>\n",
              "    <tr style=\"text-align: right;\">\n",
              "      <th></th>\n",
              "      <th>star_rating</th>\n",
              "      <th>verified_purchase</th>\n",
              "      <th>total_votes</th>\n",
              "      <th>length_of_review</th>\n",
              "    </tr>\n",
              "  </thead>\n",
              "  <tbody>\n",
              "    <tr>\n",
              "      <th>0</th>\n",
              "      <td>5</td>\n",
              "      <td>Y</td>\n",
              "      <td>0</td>\n",
              "      <td>6</td>\n",
              "    </tr>\n",
              "    <tr>\n",
              "      <th>1</th>\n",
              "      <td>5</td>\n",
              "      <td>Y</td>\n",
              "      <td>0</td>\n",
              "      <td>32</td>\n",
              "    </tr>\n",
              "    <tr>\n",
              "      <th>2</th>\n",
              "      <td>5</td>\n",
              "      <td>Y</td>\n",
              "      <td>0</td>\n",
              "      <td>104</td>\n",
              "    </tr>\n",
              "    <tr>\n",
              "      <th>3</th>\n",
              "      <td>5</td>\n",
              "      <td>Y</td>\n",
              "      <td>0</td>\n",
              "      <td>1</td>\n",
              "    </tr>\n",
              "    <tr>\n",
              "      <th>4</th>\n",
              "      <td>5</td>\n",
              "      <td>Y</td>\n",
              "      <td>0</td>\n",
              "      <td>7</td>\n",
              "    </tr>\n",
              "    <tr>\n",
              "      <th>...</th>\n",
              "      <td>...</td>\n",
              "      <td>...</td>\n",
              "      <td>...</td>\n",
              "      <td>...</td>\n",
              "    </tr>\n",
              "    <tr>\n",
              "      <th>29657</th>\n",
              "      <td>5</td>\n",
              "      <td>Y</td>\n",
              "      <td>0</td>\n",
              "      <td>20</td>\n",
              "    </tr>\n",
              "    <tr>\n",
              "      <th>29658</th>\n",
              "      <td>5</td>\n",
              "      <td>Y</td>\n",
              "      <td>0</td>\n",
              "      <td>8</td>\n",
              "    </tr>\n",
              "    <tr>\n",
              "      <th>29659</th>\n",
              "      <td>5</td>\n",
              "      <td>Y</td>\n",
              "      <td>0</td>\n",
              "      <td>25</td>\n",
              "    </tr>\n",
              "    <tr>\n",
              "      <th>29660</th>\n",
              "      <td>5</td>\n",
              "      <td>N</td>\n",
              "      <td>0</td>\n",
              "      <td>24</td>\n",
              "    </tr>\n",
              "    <tr>\n",
              "      <th>29661</th>\n",
              "      <td>5</td>\n",
              "      <td>Y</td>\n",
              "      <td>0</td>\n",
              "      <td>34</td>\n",
              "    </tr>\n",
              "  </tbody>\n",
              "</table>\n",
              "<p>29662 rows × 4 columns</p>\n",
              "</div>\n",
              "      <button class=\"colab-df-convert\" onclick=\"convertToInteractive('df-9d880dce-52aa-4ded-b671-f7d175d18a53')\"\n",
              "              title=\"Convert this dataframe to an interactive table.\"\n",
              "              style=\"display:none;\">\n",
              "        \n",
              "  <svg xmlns=\"http://www.w3.org/2000/svg\" height=\"24px\"viewBox=\"0 0 24 24\"\n",
              "       width=\"24px\">\n",
              "    <path d=\"M0 0h24v24H0V0z\" fill=\"none\"/>\n",
              "    <path d=\"M18.56 5.44l.94 2.06.94-2.06 2.06-.94-2.06-.94-.94-2.06-.94 2.06-2.06.94zm-11 1L8.5 8.5l.94-2.06 2.06-.94-2.06-.94L8.5 2.5l-.94 2.06-2.06.94zm10 10l.94 2.06.94-2.06 2.06-.94-2.06-.94-.94-2.06-.94 2.06-2.06.94z\"/><path d=\"M17.41 7.96l-1.37-1.37c-.4-.4-.92-.59-1.43-.59-.52 0-1.04.2-1.43.59L10.3 9.45l-7.72 7.72c-.78.78-.78 2.05 0 2.83L4 21.41c.39.39.9.59 1.41.59.51 0 1.02-.2 1.41-.59l7.78-7.78 2.81-2.81c.8-.78.8-2.07 0-2.86zM5.41 20L4 18.59l7.72-7.72 1.47 1.35L5.41 20z\"/>\n",
              "  </svg>\n",
              "      </button>\n",
              "      \n",
              "  <style>\n",
              "    .colab-df-container {\n",
              "      display:flex;\n",
              "      flex-wrap:wrap;\n",
              "      gap: 12px;\n",
              "    }\n",
              "\n",
              "    .colab-df-convert {\n",
              "      background-color: #E8F0FE;\n",
              "      border: none;\n",
              "      border-radius: 50%;\n",
              "      cursor: pointer;\n",
              "      display: none;\n",
              "      fill: #1967D2;\n",
              "      height: 32px;\n",
              "      padding: 0 0 0 0;\n",
              "      width: 32px;\n",
              "    }\n",
              "\n",
              "    .colab-df-convert:hover {\n",
              "      background-color: #E2EBFA;\n",
              "      box-shadow: 0px 1px 2px rgba(60, 64, 67, 0.3), 0px 1px 3px 1px rgba(60, 64, 67, 0.15);\n",
              "      fill: #174EA6;\n",
              "    }\n",
              "\n",
              "    [theme=dark] .colab-df-convert {\n",
              "      background-color: #3B4455;\n",
              "      fill: #D2E3FC;\n",
              "    }\n",
              "\n",
              "    [theme=dark] .colab-df-convert:hover {\n",
              "      background-color: #434B5C;\n",
              "      box-shadow: 0px 1px 3px 1px rgba(0, 0, 0, 0.15);\n",
              "      filter: drop-shadow(0px 1px 2px rgba(0, 0, 0, 0.3));\n",
              "      fill: #FFFFFF;\n",
              "    }\n",
              "  </style>\n",
              "\n",
              "      <script>\n",
              "        const buttonEl =\n",
              "          document.querySelector('#df-9d880dce-52aa-4ded-b671-f7d175d18a53 button.colab-df-convert');\n",
              "        buttonEl.style.display =\n",
              "          google.colab.kernel.accessAllowed ? 'block' : 'none';\n",
              "\n",
              "        async function convertToInteractive(key) {\n",
              "          const element = document.querySelector('#df-9d880dce-52aa-4ded-b671-f7d175d18a53');\n",
              "          const dataTable =\n",
              "            await google.colab.kernel.invokeFunction('convertToInteractive',\n",
              "                                                     [key], {});\n",
              "          if (!dataTable) return;\n",
              "\n",
              "          const docLinkHtml = 'Like what you see? Visit the ' +\n",
              "            '<a target=\"_blank\" href=https://colab.research.google.com/notebooks/data_table.ipynb>data table notebook</a>'\n",
              "            + ' to learn more about interactive tables.';\n",
              "          element.innerHTML = '';\n",
              "          dataTable['output_type'] = 'display_data';\n",
              "          await google.colab.output.renderOutput(dataTable, element);\n",
              "          const docLink = document.createElement('div');\n",
              "          docLink.innerHTML = docLinkHtml;\n",
              "          element.appendChild(docLink);\n",
              "        }\n",
              "      </script>\n",
              "    </div>\n",
              "  </div>\n",
              "  "
            ]
          },
          "metadata": {},
          "execution_count": 8
        }
      ]
    },
    {
      "cell_type": "code",
      "source": [
        "# Pasar a numérica verified_purchase\n",
        "df.loc[:,'verified_purchase'] = df.loc[:,'verified_purchase'].apply(lambda x: 1 if x == 'Y' else 0)\n",
        "df"
      ],
      "metadata": {
        "colab": {
          "base_uri": "https://localhost:8080/",
          "height": 479
        },
        "id": "Vm6t8Q_NiLpj",
        "outputId": "00e63947-7a6f-47e5-a0d7-c9d19be983f7"
      },
      "execution_count": 9,
      "outputs": [
        {
          "output_type": "stream",
          "name": "stderr",
          "text": [
            "<ipython-input-9-3793ebb56061>:2: DeprecationWarning: In a future version, `df.iloc[:, i] = newvals` will attempt to set the values inplace instead of always setting a new array. To retain the old behavior, use either `df[df.columns[i]] = newvals` or, if columns are non-unique, `df.isetitem(i, newvals)`\n",
            "  df.loc[:,'verified_purchase'] = df.loc[:,'verified_purchase'].apply(lambda x: 1 if x == 'Y' else 0)\n"
          ]
        },
        {
          "output_type": "execute_result",
          "data": {
            "text/plain": [
              "       star_rating  verified_purchase  total_votes  length_of_review\n",
              "0                5                  1            0                 6\n",
              "1                5                  1            0                32\n",
              "2                5                  1            0               104\n",
              "3                5                  1            0                 1\n",
              "4                5                  1            0                 7\n",
              "...            ...                ...          ...               ...\n",
              "29657            5                  1            0                20\n",
              "29658            5                  1            0                 8\n",
              "29659            5                  1            0                25\n",
              "29660            5                  0            0                24\n",
              "29661            5                  1            0                34\n",
              "\n",
              "[29662 rows x 4 columns]"
            ],
            "text/html": [
              "\n",
              "  <div id=\"df-cf492626-23b4-45a2-8e10-ff2f75c489f7\">\n",
              "    <div class=\"colab-df-container\">\n",
              "      <div>\n",
              "<style scoped>\n",
              "    .dataframe tbody tr th:only-of-type {\n",
              "        vertical-align: middle;\n",
              "    }\n",
              "\n",
              "    .dataframe tbody tr th {\n",
              "        vertical-align: top;\n",
              "    }\n",
              "\n",
              "    .dataframe thead th {\n",
              "        text-align: right;\n",
              "    }\n",
              "</style>\n",
              "<table border=\"1\" class=\"dataframe\">\n",
              "  <thead>\n",
              "    <tr style=\"text-align: right;\">\n",
              "      <th></th>\n",
              "      <th>star_rating</th>\n",
              "      <th>verified_purchase</th>\n",
              "      <th>total_votes</th>\n",
              "      <th>length_of_review</th>\n",
              "    </tr>\n",
              "  </thead>\n",
              "  <tbody>\n",
              "    <tr>\n",
              "      <th>0</th>\n",
              "      <td>5</td>\n",
              "      <td>1</td>\n",
              "      <td>0</td>\n",
              "      <td>6</td>\n",
              "    </tr>\n",
              "    <tr>\n",
              "      <th>1</th>\n",
              "      <td>5</td>\n",
              "      <td>1</td>\n",
              "      <td>0</td>\n",
              "      <td>32</td>\n",
              "    </tr>\n",
              "    <tr>\n",
              "      <th>2</th>\n",
              "      <td>5</td>\n",
              "      <td>1</td>\n",
              "      <td>0</td>\n",
              "      <td>104</td>\n",
              "    </tr>\n",
              "    <tr>\n",
              "      <th>3</th>\n",
              "      <td>5</td>\n",
              "      <td>1</td>\n",
              "      <td>0</td>\n",
              "      <td>1</td>\n",
              "    </tr>\n",
              "    <tr>\n",
              "      <th>4</th>\n",
              "      <td>5</td>\n",
              "      <td>1</td>\n",
              "      <td>0</td>\n",
              "      <td>7</td>\n",
              "    </tr>\n",
              "    <tr>\n",
              "      <th>...</th>\n",
              "      <td>...</td>\n",
              "      <td>...</td>\n",
              "      <td>...</td>\n",
              "      <td>...</td>\n",
              "    </tr>\n",
              "    <tr>\n",
              "      <th>29657</th>\n",
              "      <td>5</td>\n",
              "      <td>1</td>\n",
              "      <td>0</td>\n",
              "      <td>20</td>\n",
              "    </tr>\n",
              "    <tr>\n",
              "      <th>29658</th>\n",
              "      <td>5</td>\n",
              "      <td>1</td>\n",
              "      <td>0</td>\n",
              "      <td>8</td>\n",
              "    </tr>\n",
              "    <tr>\n",
              "      <th>29659</th>\n",
              "      <td>5</td>\n",
              "      <td>1</td>\n",
              "      <td>0</td>\n",
              "      <td>25</td>\n",
              "    </tr>\n",
              "    <tr>\n",
              "      <th>29660</th>\n",
              "      <td>5</td>\n",
              "      <td>0</td>\n",
              "      <td>0</td>\n",
              "      <td>24</td>\n",
              "    </tr>\n",
              "    <tr>\n",
              "      <th>29661</th>\n",
              "      <td>5</td>\n",
              "      <td>1</td>\n",
              "      <td>0</td>\n",
              "      <td>34</td>\n",
              "    </tr>\n",
              "  </tbody>\n",
              "</table>\n",
              "<p>29662 rows × 4 columns</p>\n",
              "</div>\n",
              "      <button class=\"colab-df-convert\" onclick=\"convertToInteractive('df-cf492626-23b4-45a2-8e10-ff2f75c489f7')\"\n",
              "              title=\"Convert this dataframe to an interactive table.\"\n",
              "              style=\"display:none;\">\n",
              "        \n",
              "  <svg xmlns=\"http://www.w3.org/2000/svg\" height=\"24px\"viewBox=\"0 0 24 24\"\n",
              "       width=\"24px\">\n",
              "    <path d=\"M0 0h24v24H0V0z\" fill=\"none\"/>\n",
              "    <path d=\"M18.56 5.44l.94 2.06.94-2.06 2.06-.94-2.06-.94-.94-2.06-.94 2.06-2.06.94zm-11 1L8.5 8.5l.94-2.06 2.06-.94-2.06-.94L8.5 2.5l-.94 2.06-2.06.94zm10 10l.94 2.06.94-2.06 2.06-.94-2.06-.94-.94-2.06-.94 2.06-2.06.94z\"/><path d=\"M17.41 7.96l-1.37-1.37c-.4-.4-.92-.59-1.43-.59-.52 0-1.04.2-1.43.59L10.3 9.45l-7.72 7.72c-.78.78-.78 2.05 0 2.83L4 21.41c.39.39.9.59 1.41.59.51 0 1.02-.2 1.41-.59l7.78-7.78 2.81-2.81c.8-.78.8-2.07 0-2.86zM5.41 20L4 18.59l7.72-7.72 1.47 1.35L5.41 20z\"/>\n",
              "  </svg>\n",
              "      </button>\n",
              "      \n",
              "  <style>\n",
              "    .colab-df-container {\n",
              "      display:flex;\n",
              "      flex-wrap:wrap;\n",
              "      gap: 12px;\n",
              "    }\n",
              "\n",
              "    .colab-df-convert {\n",
              "      background-color: #E8F0FE;\n",
              "      border: none;\n",
              "      border-radius: 50%;\n",
              "      cursor: pointer;\n",
              "      display: none;\n",
              "      fill: #1967D2;\n",
              "      height: 32px;\n",
              "      padding: 0 0 0 0;\n",
              "      width: 32px;\n",
              "    }\n",
              "\n",
              "    .colab-df-convert:hover {\n",
              "      background-color: #E2EBFA;\n",
              "      box-shadow: 0px 1px 2px rgba(60, 64, 67, 0.3), 0px 1px 3px 1px rgba(60, 64, 67, 0.15);\n",
              "      fill: #174EA6;\n",
              "    }\n",
              "\n",
              "    [theme=dark] .colab-df-convert {\n",
              "      background-color: #3B4455;\n",
              "      fill: #D2E3FC;\n",
              "    }\n",
              "\n",
              "    [theme=dark] .colab-df-convert:hover {\n",
              "      background-color: #434B5C;\n",
              "      box-shadow: 0px 1px 3px 1px rgba(0, 0, 0, 0.15);\n",
              "      filter: drop-shadow(0px 1px 2px rgba(0, 0, 0, 0.3));\n",
              "      fill: #FFFFFF;\n",
              "    }\n",
              "  </style>\n",
              "\n",
              "      <script>\n",
              "        const buttonEl =\n",
              "          document.querySelector('#df-cf492626-23b4-45a2-8e10-ff2f75c489f7 button.colab-df-convert');\n",
              "        buttonEl.style.display =\n",
              "          google.colab.kernel.accessAllowed ? 'block' : 'none';\n",
              "\n",
              "        async function convertToInteractive(key) {\n",
              "          const element = document.querySelector('#df-cf492626-23b4-45a2-8e10-ff2f75c489f7');\n",
              "          const dataTable =\n",
              "            await google.colab.kernel.invokeFunction('convertToInteractive',\n",
              "                                                     [key], {});\n",
              "          if (!dataTable) return;\n",
              "\n",
              "          const docLinkHtml = 'Like what you see? Visit the ' +\n",
              "            '<a target=\"_blank\" href=https://colab.research.google.com/notebooks/data_table.ipynb>data table notebook</a>'\n",
              "            + ' to learn more about interactive tables.';\n",
              "          element.innerHTML = '';\n",
              "          dataTable['output_type'] = 'display_data';\n",
              "          await google.colab.output.renderOutput(dataTable, element);\n",
              "          const docLink = document.createElement('div');\n",
              "          docLink.innerHTML = docLinkHtml;\n",
              "          element.appendChild(docLink);\n",
              "        }\n",
              "      </script>\n",
              "    </div>\n",
              "  </div>\n",
              "  "
            ]
          },
          "metadata": {},
          "execution_count": 9
        }
      ]
    },
    {
      "cell_type": "markdown",
      "source": [
        "## Pregunta a)"
      ],
      "metadata": {
        "id": "eegKuPR2AJ60"
      }
    },
    {
      "cell_type": "code",
      "source": [
        "sns.histplot(df['star_rating'])\n",
        "plt.xlabel(\"Clases\")\n",
        "plt.ylabel(\"Conteo\")\n",
        "plt.title(\"Distribución de Clases para Star Rating\")"
      ],
      "metadata": {
        "colab": {
          "base_uri": "https://localhost:8080/",
          "height": 490
        },
        "id": "PhYQmsrpARcA",
        "outputId": "0749bb2d-b128-4a3d-c1da-ab3461cdb0e8"
      },
      "execution_count": 10,
      "outputs": [
        {
          "output_type": "execute_result",
          "data": {
            "text/plain": [
              "Text(0.5, 1.0, 'Distribución de Clases para Star Rating')"
            ]
          },
          "metadata": {},
          "execution_count": 10
        },
        {
          "output_type": "display_data",
          "data": {
            "text/plain": [
              "<Figure size 640x480 with 1 Axes>"
            ],
            "image/png": "[encoded data removed]"
          },
          "metadata": {}
        }
      ]
    },
    {
      "cell_type": "markdown",
      "source": [
        "## Pregunta b)"
      ],
      "metadata": {
        "id": "cZSvKj58APBU"
      }
    },
    {
      "cell_type": "code",
      "source": [
        "df.columns"
      ],
      "metadata": {
        "colab": {
          "base_uri": "https://localhost:8080/"
        },
        "id": "WRYsuj32Br5E",
        "outputId": "d810ab1c-dbd2-49f4-a49b-fd2f4f0eec97"
      },
      "execution_count": 11,
      "outputs": [
        {
          "output_type": "execute_result",
          "data": {
            "text/plain": [
              "Index(['star_rating', 'verified_purchase', 'total_votes', 'length_of_review'], dtype='object')"
            ]
          },
          "metadata": {},
          "execution_count": 11
        }
      ]
    },
    {
      "cell_type": "code",
      "source": [
        "regresores = ['verified_purchase', 'total_votes', 'length_of_review']\n",
        "X = df.loc[:,regresores]\n",
        "y = df.loc[:,'star_rating']"
      ],
      "metadata": {
        "id": "rnJNmzOHBjCj"
      },
      "execution_count": 12,
      "outputs": []
    },
    {
      "cell_type": "code",
      "source": [
        "from sklearn.model_selection import train_test_split\n",
        "X_train, X_test, y_train, y_test = train_test_split(X, y, train_size=0.9, test_size=0.1, random_state=seed)"
      ],
      "metadata": {
        "id": "WhLF9uS8A06J"
      },
      "execution_count": 13,
      "outputs": []
    },
    {
      "cell_type": "code",
      "source": [
        "sns.histplot(y_train)\n",
        "plt.xlabel(\"Clases\")\n",
        "plt.ylabel(\"Conteo\")\n",
        "plt.title(\"Train: Distribución de Clases para Star Rating\")"
      ],
      "metadata": {
        "colab": {
          "base_uri": "https://localhost:8080/",
          "height": 490
        },
        "id": "D2bWhnm2FCA3",
        "outputId": "32afdccb-e4a8-423a-b040-6dee02b50600"
      },
      "execution_count": 14,
      "outputs": [
        {
          "output_type": "execute_result",
          "data": {
            "text/plain": [
              "Text(0.5, 1.0, 'Train: Distribución de Clases para Star Rating')"
            ]
          },
          "metadata": {},
          "execution_count": 14
        },
        {
          "output_type": "display_data",
          "data": {
            "text/plain": [
              "<Figure size 640x480 with 1 Axes>"
            ],
            "image/png": "[encoded data removed]"
          },
          "metadata": {}
        }
      ]
    },
    {
      "cell_type": "code",
      "source": [
        "sns.histplot(y_test)\n",
        "plt.xlabel(\"Clases\")\n",
        "plt.ylabel(\"Conteo\")\n",
        "plt.title(\"Test: Distribución de Clases para Star Rating\")"
      ],
      "metadata": {
        "colab": {
          "base_uri": "https://localhost:8080/",
          "height": 490
        },
        "id": "WLm58fCaFB7b",
        "outputId": "23c0e5be-ceed-4a0c-d01e-850adb7024d0"
      },
      "execution_count": 15,
      "outputs": [
        {
          "output_type": "execute_result",
          "data": {
            "text/plain": [
              "Text(0.5, 1.0, 'Test: Distribución de Clases para Star Rating')"
            ]
          },
          "metadata": {},
          "execution_count": 15
        },
        {
          "output_type": "display_data",
          "data": {
            "text/plain": [
              "<Figure size 640x480 with 1 Axes>"
            ],
            "image/png": "[encoded data removed]"
          },
          "metadata": {}
        }
      ]
    },
    {
      "cell_type": "code",
      "source": [
        "# Escalamos los datos\n",
        "from sklearn.preprocessing import StandardScaler\n",
        "sc = StandardScaler()\n",
        "X_train = sc.fit_transform(X_train)\n",
        "X_test = sc.transform(X_test)"
      ],
      "metadata": {
        "id": "cx4gdAYE5ffe"
      },
      "execution_count": 16,
      "outputs": []
    },
    {
      "cell_type": "code",
      "source": [
        "from sklearn.linear_model import LinearRegression"
      ],
      "metadata": {
        "id": "wpj6SQTpg7mT"
      },
      "execution_count": 17,
      "outputs": []
    },
    {
      "cell_type": "code",
      "source": [
        "lm = LinearRegression().fit(X_train,y_train)"
      ],
      "metadata": {
        "id": "Bu62qWb9hHgl"
      },
      "execution_count": 18,
      "outputs": []
    },
    {
      "cell_type": "code",
      "source": [
        "theta0 = lm.intercept_\n",
        "theta1,theta2,theta3 = lm.coef_"
      ],
      "metadata": {
        "id": "vTx43vmAhYeh"
      },
      "execution_count": 19,
      "outputs": []
    },
    {
      "cell_type": "code",
      "source": [
        "print('theta_0 = ',theta0,' | intercept')\n",
        "print('theta_1 = ',theta1,' | verified_purchase')\n",
        "print('theta_2 = ',theta2,' | total_votes')\n",
        "print('theta_3 = ',theta3,' | length_of_review')"
      ],
      "metadata": {
        "colab": {
          "base_uri": "https://localhost:8080/"
        },
        "id": "qaY7z6o6ifjz",
        "outputId": "20425117-6923-415c-c71c-4ac7ee5aad8d"
      },
      "execution_count": 20,
      "outputs": [
        {
          "output_type": "stream",
          "name": "stdout",
          "text": [
            "theta_0 =  4.735268776924518  | intercept\n",
            "theta_1 =  0.018096721161203987  | verified_purchase\n",
            "theta_2 =  -0.07068684453242849  | total_votes\n",
            "theta_3 =  -0.17693353664612393  | length_of_review\n"
          ]
        }
      ]
    },
    {
      "cell_type": "code",
      "source": [
        "y_pred_train = lm.predict(X_train)\n",
        "y_pred_test = lm.predict(X_test)"
      ],
      "metadata": {
        "id": "Das2WWMIjmKg"
      },
      "execution_count": 21,
      "outputs": []
    },
    {
      "cell_type": "code",
      "source": [
        "from sklearn.metrics import mean_squared_error"
      ],
      "metadata": {
        "id": "U9kYABVCaO8a"
      },
      "execution_count": 22,
      "outputs": []
    },
    {
      "cell_type": "code",
      "source": [
        "print('Train')\n",
        "print('Mean Square Error: '+ str(mean_squared_error(y_train, y_pred_train)))\n",
        "print()\n",
        "print('Test')\n",
        "print('Mean Square Error: '+ str(mean_squared_error(y_test, y_pred_test)))"
      ],
      "metadata": {
        "colab": {
          "base_uri": "https://localhost:8080/"
        },
        "id": "aVttTQFHjQ2d",
        "outputId": "9f280142-657d-4d60-e09e-1f11784c8814"
      },
      "execution_count": 23,
      "outputs": [
        {
          "output_type": "stream",
          "name": "stdout",
          "text": [
            "Train\n",
            "Mean Square Error: 0.637240107357175\n",
            "\n",
            "Test\n",
            "Mean Square Error: 0.5590396768812786\n"
          ]
        }
      ]
    },
    {
      "cell_type": "markdown",
      "source": [
        "## Pregunta c)"
      ],
      "metadata": {
        "id": "KUscwpRukW1H"
      }
    },
    {
      "cell_type": "code",
      "source": [
        "from sklearn.linear_model import Lasso\n",
        "from sklearn.linear_model import Ridge"
      ],
      "metadata": {
        "id": "gg7J9r-akaXO"
      },
      "execution_count": 24,
      "outputs": []
    },
    {
      "cell_type": "code",
      "source": [
        "lasso = []\n",
        "ridge = []\n",
        "\n",
        "norma_lasso = []\n",
        "norma_ridge = []\n",
        "\n",
        "n_rhos = 200\n",
        "rhos = np.logspace(-3, 3, n_rhos)\n",
        "\n",
        "for i in range(len(rhos)):\n",
        "  lasso.append(\n",
        "      Lasso(alpha = rhos[i]).fit(X_train,y_train)\n",
        "  )\n",
        "  ridge.append(\n",
        "      Ridge(alpha = rhos[i]).fit(X_train,y_train)\n",
        "  )\n",
        "\n",
        "  norma_lasso.append(np.linalg.norm(lasso[i].coef_))\n",
        "  norma_ridge.append(np.linalg.norm(ridge[i].coef_))"
      ],
      "metadata": {
        "id": "XusK-UcDlDX-"
      },
      "execution_count": 25,
      "outputs": []
    },
    {
      "cell_type": "code",
      "source": [
        "ecm_lasso_train = []\n",
        "ecm_ridge_train = []\n",
        "\n",
        "ecm_lasso_test = []\n",
        "ecm_ridge_test = []\n",
        "\n",
        "for i in range(len(rhos)):\n",
        "  ecm_lasso_train.append(mean_squared_error(y_train, lasso[i].predict(X_train)) )\n",
        "  ecm_ridge_train.append(mean_squared_error(y_train, ridge[i].predict(X_train)) )\n",
        "  ecm_lasso_test.append(mean_squared_error(y_test, lasso[i].predict(X_test)) )\n",
        "  ecm_ridge_test.append(mean_squared_error(y_test, ridge[i].predict(X_test)) )"
      ],
      "metadata": {
        "id": "3OyTHXjImDVa"
      },
      "execution_count": 26,
      "outputs": []
    },
    {
      "cell_type": "code",
      "source": [
        "print('min ECM test LASSO:',min(ecm_lasso_test))\n",
        "print('min ECM test Ridge:',min(ecm_ridge_test))"
      ],
      "metadata": {
        "colab": {
          "base_uri": "https://localhost:8080/"
        },
        "id": "oXwCuXA2do2m",
        "outputId": "1443818a-8fe7-400a-e2b5-6f92c4d1cded"
      },
      "execution_count": 27,
      "outputs": [
        {
          "output_type": "stream",
          "name": "stdout",
          "text": [
            "min ECM test LASSO: 0.5517279302582414\n",
            "min ECM test Ridge: 0.5579849740760969\n"
          ]
        }
      ]
    },
    {
      "cell_type": "code",
      "source": [
        "# Utilice distintos valores para rho y grafique el ECM en función de éste para ambos datasets"
      ],
      "metadata": {
        "id": "rkvcDQkCuNm_"
      },
      "execution_count": 28,
      "outputs": []
    },
    {
      "cell_type": "code",
      "source": [
        "ax = plt.gca()\n",
        "\n",
        "ax.plot(rhos, ecm_lasso_train,label='MSE Train (Lasso)')\n",
        "ax.plot(rhos, ecm_lasso_test,label='MSE Test (Lasso)')\n",
        "ax.set_xscale(\"log\")\n",
        "ax.set_xlim(ax.get_xlim())\n",
        "plt.xlabel(\"rho\")\n",
        "plt.ylabel(\"MSE\")\n",
        "plt.title(\"Lasso: Error Cuadrático Medio en función de rho\")\n",
        "plt.axis(\"tight\")\n",
        "plt.legend()\n",
        "plt.show()"
      ],
      "metadata": {
        "colab": {
          "base_uri": "https://localhost:8080/",
          "height": 476
        },
        "id": "qOp-zmWXu40D",
        "outputId": "999a419e-2147-4455-df02-677413894ab3"
      },
      "execution_count": 29,
      "outputs": [
        {
          "output_type": "display_data",
          "data": {
            "text/plain": [
              "<Figure size 640x480 with 1 Axes>"
            ],
            "image/png": "[encoded data removed]"
          },
          "metadata": {}
        }
      ]
    },
    {
      "cell_type": "code",
      "source": [
        "ax = plt.gca()\n",
        "\n",
        "ax.plot(rhos, ecm_ridge_train,label='MSE Train (Ridge)')\n",
        "ax.plot(rhos, ecm_ridge_test,label='MSE Test (Ridge)')\n",
        "ax.set_xscale(\"log\")\n",
        "ax.set_xlim(ax.get_xlim())\n",
        "plt.xlabel(\"rho\")\n",
        "plt.ylabel(\"MSE\")\n",
        "plt.title(\"Ridge: Error Cuadrático Medio en función de rho\")\n",
        "plt.legend()\n",
        "plt.axis(\"tight\")\n",
        "plt.show()"
      ],
      "metadata": {
        "colab": {
          "base_uri": "https://localhost:8080/",
          "height": 477
        },
        "id": "RgVLSXvZuvfL",
        "outputId": "30caa57c-e5e6-4eb2-e3e6-fccd70da00e5"
      },
      "execution_count": 30,
      "outputs": [
        {
          "output_type": "display_data",
          "data": {
            "text/plain": [
              "<Figure size 640x480 with 1 Axes>"
            ],
            "image/png": "[encoded data removed]"
          },
          "metadata": {}
        }
      ]
    },
    {
      "cell_type": "code",
      "source": [
        "# Grafique la norma de los parámetros encontrados en para los distintos modelos e indique qué puede observar de las magnitudes obtenidas para cada método."
      ],
      "metadata": {
        "id": "XWgjPU6TuPp_"
      },
      "execution_count": 31,
      "outputs": []
    },
    {
      "cell_type": "code",
      "source": [
        "ax = plt.gca()\n",
        "\n",
        "ax.plot(rhos, norma_lasso)\n",
        "ax.set_xscale(\"log\")\n",
        "ax.set_xlim(ax.get_xlim())\n",
        "plt.xlabel(\"rho\")\n",
        "plt.ylabel(\"Norm\")\n",
        "plt.title(\"Lasso: Norma de los Parámetros en función de rho\")\n",
        "plt.axis(\"tight\")\n",
        "plt.show()"
      ],
      "metadata": {
        "colab": {
          "base_uri": "https://localhost:8080/",
          "height": 476
        },
        "id": "2KtuGSN-tNzg",
        "outputId": "65a4c0a4-2b38-4a0d-e38f-847f3d660b68"
      },
      "execution_count": 32,
      "outputs": [
        {
          "output_type": "display_data",
          "data": {
            "text/plain": [
              "<Figure size 640x480 with 1 Axes>"
            ],
            "image/png": "[encoded data removed]"
          },
          "metadata": {}
        }
      ]
    },
    {
      "cell_type": "code",
      "source": [
        "ax = plt.gca()\n",
        "\n",
        "ax.plot(rhos, norma_ridge)\n",
        "ax.set_xscale(\"log\")\n",
        "ax.set_xlim(ax.get_xlim())\n",
        "plt.xlabel(\"rho\")\n",
        "plt.ylabel(\"Norm\")\n",
        "plt.title(\"Ridge: Norma de los Parámetros en función de rho\")\n",
        "plt.axis(\"tight\")\n",
        "plt.show()"
      ],
      "metadata": {
        "colab": {
          "base_uri": "https://localhost:8080/",
          "height": 477
        },
        "id": "um-90Ge2tAmu",
        "outputId": "7c4ae1cc-ab6e-49c8-f753-d2ce8ea3aa12"
      },
      "execution_count": 33,
      "outputs": [
        {
          "output_type": "display_data",
          "data": {
            "text/plain": [
              "<Figure size 640x480 with 1 Axes>"
            ],
            "image/png": "[encoded data removed]"
          },
          "metadata": {}
        }
      ]
    },
    {
      "cell_type": "markdown",
      "source": [
        "Conclusión"
      ],
      "metadata": {
        "id": "1vX74uy6wWTU"
      }
    },
    {
      "cell_type": "markdown",
      "source": [
        "## Pregunta d)"
      ],
      "metadata": {
        "id": "55F07AUIkYYW"
      }
    },
    {
      "cell_type": "markdown",
      "source": [
        "Si tenemos 3 variables con $X = [verified\\ purchase,\\ total\\ votes,\\ length\\ of\\ review]$, aplicar (a $X$):\n",
        "\n",
        "```\n",
        "PokynomialFeatures(2,include_bias=False)\n",
        "```\n",
        "Generará:\n",
        "$$[verified\\ purchase,\\ total\\ votes,\\ length\\ of\\ review,\\ (verified\\ purchase)^2, (total\\ votes)^2,\\ (length\\ of\\ review)^2,\\ verified\\ purchase*total\\ votes,\\ verified\\ purchase*length\\ of\\ review,\\ total\\ votes*length\\ of\\ review]$$\n"
      ],
      "metadata": {
        "id": "Wvf0rwxGwXQh"
      }
    },
    {
      "cell_type": "code",
      "source": [
        "# Importamos librería para trabajar con features polinomiales\n",
        "from sklearn.preprocessing import PolynomialFeatures\n",
        "\n",
        "# Definimos el grado del polinomio a usar\n",
        "poly_grade = 2\n",
        "\n",
        "# Armamos features polinomiales con los datos escalados\n",
        "X_poly_train = PolynomialFeatures(poly_grade,include_bias=False).fit_transform(X_train)\n",
        "\n",
        "# Definimos el clasificador y clasificamos los datos\n",
        "lm_poly = LinearRegression().fit(X_poly_train, y_train)"
      ],
      "metadata": {
        "id": "vJFuuuLL2QD_"
      },
      "execution_count": 34,
      "outputs": []
    },
    {
      "cell_type": "code",
      "source": [
        "X_poly_test = PolynomialFeatures(poly_grade,include_bias=False).fit_transform(X_test)"
      ],
      "metadata": {
        "id": "SGiFNs7y7bEO"
      },
      "execution_count": 35,
      "outputs": []
    },
    {
      "cell_type": "code",
      "source": [
        "#  Implemente dicho modelo y reporte su ECM en los conjuntos de entrenamiento y prueba.\n",
        "print('Train')\n",
        "print('Mean Square Error: '+ str(mean_squared_error(y_train, lm_poly.predict(X_poly_train))))\n",
        "print()\n",
        "print('Test')\n",
        "print('Mean Square Error: '+ str(mean_squared_error(y_test, lm_poly.predict(X_poly_test))))"
      ],
      "metadata": {
        "colab": {
          "base_uri": "https://localhost:8080/"
        },
        "id": "fJKrPWbE7BPd",
        "outputId": "2c68ae75-8b0e-433e-86c6-339f3562d5c9"
      },
      "execution_count": 36,
      "outputs": [
        {
          "output_type": "stream",
          "name": "stdout",
          "text": [
            "Train\n",
            "Mean Square Error: 0.6236274353397395\n",
            "\n",
            "Test\n",
            "Mean Square Error: 0.665288288655899\n"
          ]
        }
      ]
    },
    {
      "cell_type": "markdown",
      "source": [
        "## Pregunta e)"
      ],
      "metadata": {
        "id": "yiVfVOEJ8AX-"
      }
    },
    {
      "cell_type": "markdown",
      "source": [],
      "metadata": {
        "id": "qsbBhdoD8AFv"
      }
    },
    {
      "cell_type": "markdown",
      "source": [
        "## Pregunta f)"
      ],
      "metadata": {
        "id": "GqXhXJHv8Inl"
      }
    },
    {
      "cell_type": "code",
      "source": [
        "def softmax_(z):\n",
        "  \"\"\"\n",
        "    Función softmax para calcular la probabilidad de cada clase.\n",
        "    \n",
        "    Parameters:\n",
        "    ----------\n",
        "    z : array-like, shape (n_samples, n_classes)\n",
        "      Matriz de entrada con las puntuaciones de cada clase.\n",
        "    \n",
        "    Returns:\n",
        "    --------\n",
        "    softmax : array, shape (n_samples, n_classes)\n",
        "      Matriz con las probabilidades normalizadas de cada clase.\n",
        "  \"\"\"\n",
        "  softmax = np.exp(z) / np.sum(np.exp(z), axis=1, keepdims=True) \n",
        "  return softmax\n",
        "\n",
        "class MultipleLogRegression:\n",
        "  \"\"\"\n",
        "    Clase para implementar regresión logística múltiple.\n",
        "    \n",
        "    Parameters:\n",
        "    -----------\n",
        "    params : dict\n",
        "      Diccionario con learning_rate y epochs\n",
        "    \n",
        "    Attributes:\n",
        "    ----------\n",
        "    coef_ : array, shape (n_features, n_classes)\n",
        "      Coeficientes de la regresión logística para cada clase.\n",
        "    intercept_ : array, shape (n_classes,)\n",
        "      Término de intercepción de la regresión logística para cada clase.\n",
        "  \"\"\"\n",
        "  def __init__(self, params = None):\n",
        "    \"\"\"\n",
        "      Constructor de la clase.\n",
        "    \"\"\"\n",
        "    self.coef_ = None\n",
        "    self.intercept_ = None\n",
        "    if params == None:\n",
        "      self.learning_rate = 0.01\n",
        "      self.epochs = 1000\n",
        "    else:\n",
        "      self.learning_rate = params['learning_rate']\n",
        "      self.epochs = params['epochs']\n",
        "\n",
        "\n",
        "  def gradient(self,n,ti,oi,xi):\n",
        "    \"\"\"\n",
        "      Método para calcular el gradiente.\n",
        "        \n",
        "      Parameters:\n",
        "      -----------\n",
        "      n : int\n",
        "        Número de muestras de entrenamiento.\n",
        "      ti : array-like, shape (n_samples, n_classes)\n",
        "        Matriz de one-hot encoding de las etiquetas verdaderas.\n",
        "      oi : array-like, shape (n_samples, n_classes)\n",
        "        Matriz de probabilidades predichas por la regresión logística.\n",
        "      xi : array-like, shape (n_samples, n_features)\n",
        "        Matriz de características de entrenamiento.\n",
        "        \n",
        "      Returns:\n",
        "      --------\n",
        "      gradient : array, shape (n_features, n_classes)\n",
        "        Gradiente del costo respecto a los coeficientes de la regresión logística.\n",
        "    \"\"\"\n",
        "    gradient = np.dot(xi.T, (oi - ti)) / n\n",
        "    return gradient\n",
        "\n",
        "  def one_hot(self,y):\n",
        "    \"\"\"\n",
        "      Método para codificar las etiquetas en one-hot encoding.\n",
        "        \n",
        "      Parameters:\n",
        "      -----------\n",
        "      y : array-like, shape (n_samples,)\n",
        "        Etiquetas de entrenamiento.\n",
        "        \n",
        "      Returns:\n",
        "      --------\n",
        "      encoding : array, shape (n_samples, n_classes)\n",
        "        Matriz de one-hot encoding de las etiquetas.\n",
        "    \"\"\"\n",
        "    n_classes = np.max(y)\n",
        "    encoding = np.zeros((len(y), n_classes))\n",
        "    # One-hot encoding\n",
        "    encoding[np.arange(len(y)), y-1] = 1\n",
        "    return encoding\n",
        "\n",
        "  def fit(self,X,y):\n",
        "    \"\"\"\n",
        "      Método para ajustar el modelo a los datos de entrenamiento.\n",
        "        \n",
        "      Parameters:\n",
        "      -----------\n",
        "      X : array-like, shape (n_samples, n_features)\n",
        "        Matriz de características de entrenamiento.\n",
        "      y : array-like, shape (n_samples,)\n",
        "        Etiquetas de entrenamiento.\n",
        "\n",
        "      Returns:\n",
        "      --------\n",
        "      None\n",
        "        Modelo entrernado.\n",
        "    \"\"\"\n",
        "    n_samples, n_features = X.shape\n",
        "    n_classes = np.max(y)\n",
        "\n",
        "    # Codificar las etiquetas en one-hot encoding\n",
        "    Ti = self.one_hot(y)\n",
        "\n",
        "    # Inicializar los coeficientes con ceros\n",
        "    self.coef_ = np.zeros((n_features, n_classes))\n",
        "    self.intercept_ = np.zeros(n_classes)\n",
        "    \n",
        "    # SGD\n",
        "    for _ in range(self.epochs):\n",
        "      z = np.dot(X, self.coef_) + self.intercept_\n",
        "      Oi = softmax_(z)\n",
        "      gradient = self.gradient(n_samples, Ti, Oi, X)\n",
        "      self.coef_ -= self.learning_rate * gradient\n",
        "      self.intercept_ -= self.learning_rate * np.mean( Oi - Ti , axis = 0)\n",
        "\n",
        "  def predict(self,X):\n",
        "    \"\"\"\n",
        "      Método para predecir las etiquetas de clases en nuevos datos.\n",
        "        \n",
        "      Parameters:\n",
        "      -----------\n",
        "      X : array-like, shape (n_samples, n_features)\n",
        "        Matriz de características de los datos de prueba.\n",
        "        \n",
        "      Returns:\n",
        "      --------\n",
        "      y_pred : array, shape (n_samples,)\n",
        "        Etiquetas predichas para los datos de prueba.\n",
        "    \"\"\"\n",
        "    z = np.dot(X, self.coef_) + self.intercept_\n",
        "    Oi = softmax_(z)\n",
        "    # Obtener el argmax (sumar 1 para volver a la codificación original)\n",
        "    y_pred = np.argmax(Oi, axis=1) + 1\n",
        "    return y_pred"
      ],
      "metadata": {
        "id": "N20UF9DAZLuJ"
      },
      "execution_count": 37,
      "outputs": []
    },
    {
      "cell_type": "code",
      "source": [
        "lr = MultipleLogRegression()\n",
        "lr.fit(X_train,y_train)"
      ],
      "metadata": {
        "id": "qZgFNdkJ742Y"
      },
      "execution_count": 38,
      "outputs": []
    },
    {
      "cell_type": "code",
      "source": [
        "print(lr.coef_.T)\n",
        "print(lr.intercept_)"
      ],
      "metadata": {
        "colab": {
          "base_uri": "https://localhost:8080/"
        },
        "id": "S-pTBhzJeY3x",
        "outputId": "36317d89-8802-47c9-bf40-88084f1e3c63"
      },
      "execution_count": 39,
      "outputs": [
        {
          "output_type": "stream",
          "name": "stdout",
          "text": [
            "[[-0.0465938   0.06321161  0.13451871]\n",
            " [ 0.00061491  0.02977484  0.03605459]\n",
            " [ 0.00381157  0.00830503  0.04823377]\n",
            " [ 0.01841875 -0.01629258  0.00232168]\n",
            " [ 0.02374856 -0.0849989  -0.22112876]]\n",
            "[-0.5883118  -0.73759044 -0.66022987 -0.33188108  2.31801319]\n"
          ]
        }
      ]
    },
    {
      "cell_type": "code",
      "source": [
        "#  Implemente dicho modelo y reporte su ECM en los conjuntos de entrenamiento y prueba.\n",
        "print('Train')\n",
        "print('Mean Square Error: '+ str(mean_squared_error(y_train, lr.predict(X_train))))\n",
        "print()\n",
        "print('Test')\n",
        "print('Mean Square Error: '+ str(mean_squared_error(y_test, lr.predict(X_test))))"
      ],
      "metadata": {
        "colab": {
          "base_uri": "https://localhost:8080/"
        },
        "id": "I3gjDXHPk4dB",
        "outputId": "f068ed33-b1cb-4a67-b66b-96c80b3845f1"
      },
      "execution_count": 40,
      "outputs": [
        {
          "output_type": "stream",
          "name": "stdout",
          "text": [
            "Train\n",
            "Mean Square Error: 0.7501404757445215\n",
            "\n",
            "Test\n",
            "Mean Square Error: 0.6359959555106168\n"
          ]
        }
      ]
    },
    {
      "cell_type": "code",
      "source": [
        "# Regresión Logística de Sklearn para comparar\n",
        "from sklearn.linear_model import LogisticRegression\n",
        "logit = LogisticRegression().fit(X_train,y_train)"
      ],
      "metadata": {
        "id": "StS2yj5oeht4"
      },
      "execution_count": 41,
      "outputs": []
    },
    {
      "cell_type": "code",
      "source": [
        "print(logit.coef_)\n",
        "print()\n",
        "print(logit.intercept_)"
      ],
      "metadata": {
        "colab": {
          "base_uri": "https://localhost:8080/"
        },
        "id": "e48XQfWGe5qr",
        "outputId": "44f4d71f-17bf-45ed-a210-9fc9dddb2a75"
      },
      "execution_count": 42,
      "outputs": [
        {
          "output_type": "stream",
          "name": "stdout",
          "text": [
            "[[-0.10403324  0.08793673  0.18727284]\n",
            " [-0.02226514  0.08316521  0.19858726]\n",
            " [ 0.03325005  0.03091927  0.1266456 ]\n",
            " [ 0.0584025  -0.10658091 -0.14209759]\n",
            " [ 0.03464582 -0.09544031 -0.37040811]]\n",
            "\n",
            "[-0.59339617 -1.69088886 -0.92709768  0.31076709  2.90061563]\n"
          ]
        }
      ]
    },
    {
      "cell_type": "code",
      "source": [
        "print('Train')\n",
        "print('Mean Square Error: '+ str(mean_squared_error(y_train, logit.predict(X_train))))\n",
        "print()\n",
        "print('Test')\n",
        "print('Mean Square Error: '+ str(mean_squared_error(y_test, logit.predict(X_test))))"
      ],
      "metadata": {
        "colab": {
          "base_uri": "https://localhost:8080/"
        },
        "id": "GowrhZ1Vkth1",
        "outputId": "97c83676-7295-4248-f7d7-dc2058fcbe57"
      },
      "execution_count": 43,
      "outputs": [
        {
          "output_type": "stream",
          "name": "stdout",
          "text": [
            "Train\n",
            "Mean Square Error: 0.7576325154523319\n",
            "\n",
            "Test\n",
            "Mean Square Error: 0.6386922817660937\n"
          ]
        }
      ]
    },
    {
      "cell_type": "markdown",
      "source": [
        "## Pregunta g)"
      ],
      "metadata": {
        "id": "Mf9-sMcWcbnY"
      }
    },
    {
      "cell_type": "code",
      "source": [
        "# calculamos accuracy para la regresión lineal y regresión logística\n",
        "from sklearn.metrics import accuracy_score"
      ],
      "metadata": {
        "id": "OI7M3rUAhKZV"
      },
      "execution_count": 44,
      "outputs": []
    },
    {
      "cell_type": "code",
      "source": [
        "print('Train')\n",
        "print('Accuracy: '+ str(accuracy_score(y_train, np.round(y_pred_train))))\n",
        "print()\n",
        "print('Test')\n",
        "print('Accuracy: '+ str(accuracy_score(y_test, np.round(y_pred_test))))"
      ],
      "metadata": {
        "colab": {
          "base_uri": "https://localhost:8080/"
        },
        "id": "y4AuWcvqhCmu",
        "outputId": "bad15a56-991f-4990-f282-64a4e0660678"
      },
      "execution_count": 45,
      "outputs": [
        {
          "output_type": "stream",
          "name": "stdout",
          "text": [
            "Train\n",
            "Accuracy: 0.8302678404195543\n",
            "\n",
            "Test\n",
            "Accuracy: 0.8254128749578699\n"
          ]
        }
      ]
    },
    {
      "cell_type": "code",
      "source": [
        "print('Train')\n",
        "print('Accuracy: '+ str(accuracy_score(y_train, lr.predict(X_train))))\n",
        "print()\n",
        "print('Test')\n",
        "print('Accuracy: '+ str(accuracy_score(y_test, lr.predict(X_test))))"
      ],
      "metadata": {
        "colab": {
          "base_uri": "https://localhost:8080/"
        },
        "id": "kzp-v8TmhAfR",
        "outputId": "e4d3a7b9-02d2-4498-b26a-dcdab392a333"
      },
      "execution_count": 46,
      "outputs": [
        {
          "output_type": "stream",
          "name": "stdout",
          "text": [
            "Train\n",
            "Accuracy: 0.8714740588125117\n",
            "\n",
            "Test\n",
            "Accuracy: 0.8661948095719582\n"
          ]
        }
      ]
    }
  ]
}